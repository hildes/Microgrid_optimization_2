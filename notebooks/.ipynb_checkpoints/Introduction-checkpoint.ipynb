{
 "cells": [
  {
   "cell_type": "markdown",
   "metadata": {},
   "source": [
    "# Introduction"
   ]
  },
  {
   "cell_type": "markdown",
   "metadata": {},
   "source": [
    "The main object we will be working on is a simple graph representing the flow of energy between four types of nodes, namely the city grid, the battery, the photovoltaic system and \"consumption\", which is the total consumption of the house. These four nodes will be duplicated for each hour of the year in order to represent the evolution of energy flow with respect to time. This gives a total of $4\\times 24\\times 365 = 35040$ nodes since we chose to work in one hour resolution."
   ]
  },
  {
   "cell_type": "markdown",
   "metadata": {},
   "source": [
    "The image below gives an idea of what the graph would look like if the model only had $7$ hours."
   ]
  },
  {
   "cell_type": "markdown",
   "metadata": {},
   "source": [
    "![energy managment](graph.png)"
   ]
  },
  {
   "cell_type": "markdown",
   "metadata": {},
   "source": [
    "$p_{i,j}:=$cost of energy per unit of flow through arc $(i,j)$"
   ]
  },
  {
   "cell_type": "markdown",
   "metadata": {},
   "source": [
    "$f_{i,j}:=$ amount of energy flow through arc $(i,j)$"
   ]
  },
  {
   "cell_type": "markdown",
   "metadata": {},
   "source": [
    "For example: $p_{\\text{grid}(t),\\text{cons}(t+1)}$ is the cost of energy at time $ t $ ; $f_{\\text{grid}(t),\\text{cons}(t+1)}$ is the amount of energy bought at time $t$ and the product $p_{\\text{grid}(t),\\text{cons}(t+1)}\\ f_{\\text{grid}(t),\\text{cons}(t+1)}$ is the amount of money paid for energy consumed at time $t$"
   ]
  },
  {
   "cell_type": "markdown",
   "metadata": {},
   "source": [
    "Therefore the goal is to minimize the quantity $\\sum\\limits_{t\\in\\{1,\\dots,8759\\}}p_{\\text{grid}(t),\\text{cons}(t+1)}\\ f_{\\text{grid}(t),\\text{cons}(t+1)} + p_{\\text{PV}(t),\\text{grid}(t+1)}\\ f_{\\text{PV}(t),\\text{grid}(t+1)}$\n",
    "assuming that $p_{\\text{PV}(t),\\text{grid}(t+1)}$ is \"the cost of selling\" energy to the grid (therefore it's negative)."
   ]
  },
  {
   "cell_type": "markdown",
   "metadata": {},
   "source": [
    "The following capacities are associated to arcs:\n",
    "$c_{\\text{bat},\\text{bat}}=c_{\\text{PV},\\text{bat}}=$CAPBAT (this by itself is not enough to prevent the battery from containing more than CAPBAT since we can add a value bounded by CAPBAT multiplue times)\n"
   ]
  },
  {
   "cell_type": "markdown",
   "metadata": {},
   "source": [
    "# Transportation problem"
   ]
  },
  {
   "cell_type": "markdown",
   "metadata": {},
   "source": [
    "$\\min\\limits_{f\\in\\mathcal F} \\sum\\limits_{(i,j)\\in\\mathcal A}c_{ij}f_{ij}$, where $\\mathcal F=\\{\\text{all feasible flows for the network}\\}$"
   ]
  },
  {
   "cell_type": "markdown",
   "metadata": {},
   "source": [
    "Constraints: \n",
    "\n",
    "Flow convervation constraint (can be written in matrix form as $Af=b$, where $b_i=\\begin{cases} s_i \\text{ if supply node} \\\\-d_i\\text{ is demand node}\\end{cases}\\ $ )\n",
    "\n",
    "$\\sum\\limits_{i\\in\\delta_{in}(j)}f_{ij}=d_j:=\\text{demand of }j\\ge 0\\ , \\forall j \\in \\mathcal N^d$, where $\\mathcal N^d=\\{n\\in\\mathcal N\\ : d_n=\\text{demand of }n \\ne0\\}$. \n",
    "\n",
    "$\\sum\\limits_{j\\in\\delta_{out}(i) }f_{ij}=s_i:=\\text{supply of }i\\ge 0\\ , \\forall i\\in \\mathcal N^s$, where $\\mathcal N^s=\\{n\\in\\mathcal N\\ : s_n=\\text{supply of }n \\ne0\\}$.\n",
    "\n",
    "$\\sum\\limits_{k\\in\\delta_{in}(i)}f_{ki}+\\sum\\limits_{j\\in\\delta_{out}(i)}f_{ij}=0\\ \\forall i\\in\\mathcal (\\mathcal N^s\\cup\\mathcal N^d)^c$ i.e. every transition node (with zero supply and zero demand) has to have as much flow going in as going out.\n",
    "\n",
    "Note: \n",
    "a priori grid(t), PV(t), cons(t) $\\in\\mathcal N':=\\mathcal N^s\\cup\\mathcal N^d\\ \\forall t\\ $ and bat(t)$\\in\\mathcal N'$ for some particular $t$'s. That being said, there can be hours where some of these nodes have zero demand/supply.\n",
    "\n",
    "constraint on multipliers \n",
    "\n",
    "constraint on capacity: $l_{ij}\\le f_{ij}\\le u_{ij} $"
   ]
  },
  {
   "cell_type": "markdown",
   "metadata": {},
   "source": [
    "The total cost of energy without a battery or solar panels installed is 100.9CHF for the year, according to the consumption data and a fixed price of 0.01CHF/kWh. The total yearly consumption of energy is 10091,368 kWh."
   ]
  },
  {
   "cell_type": "code",
   "execution_count": null,
   "metadata": {},
   "outputs": [],
   "source": []
  }
 ],
 "metadata": {
  "anaconda-cloud": {},
  "kernelspec": {
   "display_name": "Python 3",
   "language": "python",
   "name": "python3"
  },
  "language_info": {
   "codemirror_mode": {
    "name": "ipython",
    "version": 3
   },
   "file_extension": ".py",
   "mimetype": "text/x-python",
   "name": "python",
   "nbconvert_exporter": "python",
   "pygments_lexer": "ipython3",
   "version": "3.6.8"
  }
 },
 "nbformat": 4,
 "nbformat_minor": 1
}
